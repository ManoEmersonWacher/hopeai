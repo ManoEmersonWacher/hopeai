{
 "cells": [
  {
   "cell_type": "code",
   "execution_count": 1,
   "id": "765ac971-82c4-4772-b82d-677e3fc30586",
   "metadata": {},
   "outputs": [],
   "source": [
    "import pickle"
   ]
  },
  {
   "cell_type": "code",
   "execution_count": 3,
   "id": "d1650664-3c6d-4a56-a6c5-7a4de7b5b94f",
   "metadata": {},
   "outputs": [],
   "source": [
    "modelname = \"MultipleLinearRegression_Model.sav\""
   ]
  },
  {
   "cell_type": "code",
   "execution_count": 5,
   "id": "0d798110-95ee-48be-8ef3-fa0af721f078",
   "metadata": {},
   "outputs": [],
   "source": [
    "my_mlr_model = pickle.load(open(modelname, 'rb'))"
   ]
  },
  {
   "cell_type": "code",
   "execution_count": 61,
   "id": "a67443fa-e4a3-4f5e-a595-fb7098b80759",
   "metadata": {},
   "outputs": [
    {
     "name": "stdin",
     "output_type": "stream",
     "text": [
      "Enter the amount spent in R&D 1000\n",
      "Enter the amount spent in Admin 2000\n",
      "Enter the amount spent in Marketing 3000\n",
      "Are you going to invest in Florida - Yes / No No\n",
      "Are you going to invest in New York  - Yes / No No\n"
     ]
    }
   ],
   "source": [
    "rd_spent = float(input(\"Enter the amount spent in R&D\"))\n",
    "admin_spent = float(input(\"Enter the amount spent in Admin\"))\n",
    "market_spent = float(input(\"Enter the amount spent in Marketing\"))\n",
    "invest_florida = input(\"Are you going to invest in Florida - Yes / No\")\n",
    "invest_newyork = input(\"Are you going to invest in New York  - Yes / No\")\n",
    "if(invest_florida == 'Yes'):\n",
    "    invest_florida = 1\n",
    "else:\n",
    "    invest_florida = 0\n",
    "if(invest_newyork == 'Yes'):\n",
    "    invest_newyork = 1\n",
    "else:\n",
    "    invest_newyork = 0"
   ]
  },
  {
   "cell_type": "code",
   "execution_count": 63,
   "id": "9b272df3-e4e9-4552-a86c-70e80590fd12",
   "metadata": {},
   "outputs": [
    {
     "name": "stdout",
     "output_type": "stream",
     "text": [
      "By investing the above amount in California, you will get the profile, $ 44649\n"
     ]
    },
    {
     "name": "stderr",
     "output_type": "stream",
     "text": [
      "D:\\ProgramData\\anaconda3\\Lib\\site-packages\\sklearn\\base.py:493: UserWarning: X does not have valid feature names, but LinearRegression was fitted with feature names\n",
      "  warnings.warn(\n"
     ]
    }
   ],
   "source": [
    "profit = my_mlr_model.predict([[1000, 2000, 30000, 1, 0]])\n",
    "if(invest_florida == 1):\n",
    "    print(\"By investing the above amount in Florida, you will get the profile, $\", round(profit[0][0]))\n",
    "elif(invest_newyork == 1):\n",
    "    print(\"By investing the above amount in New York, you will get the profile, $\", round(profit[0][0]))\n",
    "else:\n",
    "    print(\"By investing the above amount in California, you will get the profile, $\", round(profit[0][0]))    "
   ]
  },
  {
   "cell_type": "code",
   "execution_count": null,
   "id": "91f21ab1-f5a1-4b58-8c47-69e10e6bf472",
   "metadata": {},
   "outputs": [],
   "source": []
  },
  {
   "cell_type": "code",
   "execution_count": null,
   "id": "824690d9-a1c9-4404-b682-db7562e4f0b4",
   "metadata": {},
   "outputs": [],
   "source": []
  }
 ],
 "metadata": {
  "kernelspec": {
   "display_name": "Python [conda env:base] *",
   "language": "python",
   "name": "conda-base-py"
  },
  "language_info": {
   "codemirror_mode": {
    "name": "ipython",
    "version": 3
   },
   "file_extension": ".py",
   "mimetype": "text/x-python",
   "name": "python",
   "nbconvert_exporter": "python",
   "pygments_lexer": "ipython3",
   "version": "3.12.7"
  }
 },
 "nbformat": 4,
 "nbformat_minor": 5
}
