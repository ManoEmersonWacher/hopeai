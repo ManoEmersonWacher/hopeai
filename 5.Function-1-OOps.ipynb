{
 "cells": [
  {
   "cell_type": "code",
   "execution_count": 33,
   "id": "aba54f60-9a6e-4abe-af79-06b919633136",
   "metadata": {},
   "outputs": [],
   "source": [
    "def AgeCategory(age):\n",
    "    print(greetings)\n",
    "    if(age < 18):\n",
    "        print(\"Children\")\n",
    "        cate = \"Children\"\n",
    "    elif(age < 35):\n",
    "        print(\"Adult\")\n",
    "        cate = \"Adult\"\n",
    "    elif(age < 59):\n",
    "        print(\"Citizen\")\n",
    "        cate = \"Citizen\"\n",
    "    else:\n",
    "        print(\"Sr. Citizen\")\n",
    "        cate = \"Sr. Citizen\"\n",
    "    return cate"
   ]
  },
  {
   "cell_type": "code",
   "execution_count": 35,
   "id": "7b2f0818-1dc4-46e7-8a18-63b9bb83b372",
   "metadata": {},
   "outputs": [
    {
     "name": "stdin",
     "output_type": "stream",
     "text": [
      "Ener the Age: 25\n"
     ]
    },
    {
     "name": "stdout",
     "output_type": "stream",
     "text": [
      "Hello everyone!\n",
      "Adult\n"
     ]
    }
   ],
   "source": [
    "age = int(input(\"Ener the Age:\"))\n",
    "ageCate = AgeCategory(age)"
   ]
  },
  {
   "cell_type": "code",
   "execution_count": 23,
   "id": "5e68dfc0-58cf-4544-a9be-3bbeaea6bddf",
   "metadata": {},
   "outputs": [
    {
     "name": "stdout",
     "output_type": "stream",
     "text": [
      "Adult\n"
     ]
    }
   ],
   "source": [
    "print(ageCate)"
   ]
  },
  {
   "cell_type": "code",
   "execution_count": 31,
   "id": "34400427-3758-46ec-9b52-0e81763544ec",
   "metadata": {},
   "outputs": [],
   "source": [
    "greetings = \"Hello everyone!\""
   ]
  }
 ],
 "metadata": {
  "kernelspec": {
   "display_name": "Python 3 (Anaconda)",
   "language": "python",
   "name": "python3"
  },
  "language_info": {
   "codemirror_mode": {
    "name": "ipython",
    "version": 3
   },
   "file_extension": ".py",
   "mimetype": "text/x-python",
   "name": "python",
   "nbconvert_exporter": "python",
   "pygments_lexer": "ipython3",
   "version": "3.12.7"
  }
 },
 "nbformat": 4,
 "nbformat_minor": 5
}
