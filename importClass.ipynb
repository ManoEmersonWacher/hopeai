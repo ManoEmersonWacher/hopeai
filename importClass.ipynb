{
 "cells": [
  {
   "cell_type": "code",
   "execution_count": 10,
   "id": "56306973-77fe-4091-94bd-efb7b3a15224",
   "metadata": {},
   "outputs": [],
   "source": [
    "from multiplefunctions import multipleFunctions"
   ]
  },
  {
   "cell_type": "code",
   "execution_count": 12,
   "id": "8bb6ae91-5f08-4d3d-ba2c-237c454c76df",
   "metadata": {},
   "outputs": [
    {
     "name": "stdin",
     "output_type": "stream",
     "text": [
      "Enter a number: 5\n"
     ]
    },
    {
     "name": "stdout",
     "output_type": "stream",
     "text": [
      "5 is Odd number\n"
     ]
    }
   ],
   "source": [
    "multipleFunctions.OddEven()"
   ]
  }
 ],
 "metadata": {
  "kernelspec": {
   "display_name": "Python 3 (Anaconda)",
   "language": "python",
   "name": "python3"
  },
  "language_info": {
   "codemirror_mode": {
    "name": "ipython",
    "version": 3
   },
   "file_extension": ".py",
   "mimetype": "text/x-python",
   "name": "python",
   "nbconvert_exporter": "python",
   "pygments_lexer": "ipython3",
   "version": "3.12.7"
  }
 },
 "nbformat": 4,
 "nbformat_minor": 5
}
