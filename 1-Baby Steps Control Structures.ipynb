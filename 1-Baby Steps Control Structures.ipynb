{
 "cells": [
  {
   "cell_type": "code",
   "execution_count": null,
   "id": "0c65fb79-1269-4352-9397-40a6459478e5",
   "metadata": {},
   "outputs": [],
   "source": [
    "# print example"
   ]
  },
  {
   "cell_type": "code",
   "execution_count": 1,
   "id": "81ad5aec-0577-4b71-ac51-94b3eb400573",
   "metadata": {},
   "outputs": [
    {
     "name": "stdout",
     "output_type": "stream",
     "text": [
      "Welcome to Assignment-1\n"
     ]
    }
   ],
   "source": [
    "print(\"Welcome to Assignment-1\")"
   ]
  },
  {
   "cell_type": "code",
   "execution_count": null,
   "id": "45dac208-b64a-4049-b75b-dc6fe093c66f",
   "metadata": {},
   "outputs": [],
   "source": [
    "#Add 2 numbers"
   ]
  },
  {
   "cell_type": "code",
   "execution_count": 3,
   "id": "2ba7d09e-018c-4079-b002-2d20ed66e0db",
   "metadata": {},
   "outputs": [
    {
     "name": "stdin",
     "output_type": "stream",
     "text": [
      "Enter the value of Num1: 10\n",
      "Enter the value of Num2: 30\n"
     ]
    },
    {
     "name": "stdout",
     "output_type": "stream",
     "text": [
      "Num1= 10\n",
      "Num2= 30\n",
      "Add= 40\n"
     ]
    }
   ],
   "source": [
    "Num1 = int(input(\"Enter the value of Num1:\"))\n",
    "Num2 = int(input(\"Enter the value of Num2:\"))\n",
    "Add = Num1+Num2\n",
    "print(\"Num1=\",Num1)\n",
    "print(\"Num2=\",Num2)\n",
    "print(\"Add=\",Add)"
   ]
  },
  {
   "cell_type": "code",
   "execution_count": null,
   "id": "4ab522ab-f410-4481-a61d-cbf1428986b7",
   "metadata": {},
   "outputs": [],
   "source": [
    "#Body Mass Index"
   ]
  },
  {
   "cell_type": "code",
   "execution_count": 35,
   "id": "a2d15d44-eb1c-4453-bbf4-118e5e753d59",
   "metadata": {},
   "outputs": [
    {
     "name": "stdin",
     "output_type": "stream",
     "text": [
      "Enter the BMI Index: 34\n"
     ]
    },
    {
     "name": "stdout",
     "output_type": "stream",
     "text": [
      "Very Overweight\n"
     ]
    }
   ],
   "source": [
    "weight = float(input(\"Enter the BMI Index:\"))\n",
    "if(weight < 18.5):\n",
    "    print(\"Underweight\")\n",
    "elif((weight >= 18.5) and (weight <= 24.9)):\n",
    "    print(\"Normal range\")\n",
    "elif((weight >= 25.0) and (weight <= 29.9)):\n",
    "    print(\"Overweight\")\n",
    "else:\n",
    "    print(\"Very Overweight\")\n",
    "             "
   ]
  }
 ],
 "metadata": {
  "kernelspec": {
   "display_name": "Python 3 (Anaconda)",
   "language": "python",
   "name": "python3"
  },
  "language_info": {
   "codemirror_mode": {
    "name": "ipython",
    "version": 3
   },
   "file_extension": ".py",
   "mimetype": "text/x-python",
   "name": "python",
   "nbconvert_exporter": "python",
   "pygments_lexer": "ipython3",
   "version": "3.12.7"
  }
 },
 "nbformat": 4,
 "nbformat_minor": 5
}
