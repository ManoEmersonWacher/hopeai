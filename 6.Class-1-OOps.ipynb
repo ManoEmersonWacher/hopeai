{
 "cells": [
  {
   "cell_type": "code",
   "execution_count": 5,
   "id": "8bbd0d19-8c8d-43e8-b6c4-cb967b0995b2",
   "metadata": {},
   "outputs": [],
   "source": [
    "class multipleFunctions():\n",
    "    def OddEven():\n",
    "        numb = int(input(\"Enter a number:\"))\n",
    "        if((numb % 2) == 0):\n",
    "            print(numb,\"is Even number\")\n",
    "        else:\n",
    "            print(numb,\"is Odd number\")\n",
    "\n",
    "    def BMI():\n",
    "        weight = float(input(\"Enter the BMI Index:\"))\n",
    "        if(weight < 18.5):\n",
    "            print(\"Underweight\")\n",
    "        elif((weight >= 18.5) and (weight <= 24.9)):\n",
    "            print(\"Normal range\")\n",
    "        elif((weight >= 25.0) and (weight <= 29.9)):\n",
    "            print(\"Overweight\")\n",
    "        else:\n",
    "            print(\"Very Overweight\")"
   ]
  },
  {
   "cell_type": "code",
   "execution_count": 7,
   "id": "060a1a8d-9266-475a-b6e1-a54f1a7b3d34",
   "metadata": {},
   "outputs": [
    {
     "name": "stdin",
     "output_type": "stream",
     "text": [
      "Enter a number: 4\n"
     ]
    },
    {
     "name": "stdout",
     "output_type": "stream",
     "text": [
      "4 is Even number\n"
     ]
    }
   ],
   "source": [
    "multipleFunctions.OddEven()"
   ]
  },
  {
   "cell_type": "code",
   "execution_count": 9,
   "id": "853a8168-1e7a-42ea-9f40-d58ef82fe64a",
   "metadata": {},
   "outputs": [
    {
     "name": "stdin",
     "output_type": "stream",
     "text": [
      "Enter the BMI Index: 25\n"
     ]
    },
    {
     "name": "stdout",
     "output_type": "stream",
     "text": [
      "Overweight\n"
     ]
    }
   ],
   "source": [
    "multipleFunctions.BMI()"
   ]
  }
 ],
 "metadata": {
  "kernelspec": {
   "display_name": "Python 3 (Anaconda)",
   "language": "python",
   "name": "python3"
  },
  "language_info": {
   "codemirror_mode": {
    "name": "ipython",
    "version": 3
   },
   "file_extension": ".py",
   "mimetype": "text/x-python",
   "name": "python",
   "nbconvert_exporter": "python",
   "pygments_lexer": "ipython3",
   "version": "3.12.7"
  }
 },
 "nbformat": 4,
 "nbformat_minor": 5
}
