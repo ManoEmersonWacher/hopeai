{
 "cells": [
  {
   "cell_type": "code",
   "execution_count": 3,
   "id": "41708992-7aad-4aee-bc9a-c6e28ec7c5bc",
   "metadata": {},
   "outputs": [
    {
     "name": "stdout",
     "output_type": "stream",
     "text": [
      "Mano Emerson\n"
     ]
    }
   ],
   "source": [
    "print(\"Mano Emerson\")"
   ]
  },
  {
   "cell_type": "code",
   "execution_count": 39,
   "id": "0b58761b-ede6-40b3-9d01-1a768017e2f3",
   "metadata": {},
   "outputs": [
    {
     "data": {
      "text/plain": [
       "30"
      ]
     },
     "execution_count": 39,
     "metadata": {},
     "output_type": "execute_result"
    }
   ],
   "source": [
    "num1 = 10\n",
    "num2 = 20\n",
    "add = num1 + num2\n",
    "add"
   ]
  },
  {
   "cell_type": "raw",
   "id": "d0492fac-402c-4e42-875a-dd6c7db6904a",
   "metadata": {},
   "source": [
    "print(\"The addition of two numbers\");\n",
    "print(\"The Number 1 : \", num1);\n",
    "print(\"The Number 2 : \", num2);\n",
    "print(\"The Answer : \",add);"
   ]
  },
  {
   "cell_type": "code",
   "execution_count": 53,
   "id": "6dc41441-913e-40fb-ab21-9ef2d2f42461",
   "metadata": {},
   "outputs": [
    {
     "name": "stdin",
     "output_type": "stream",
     "text": [
      "Enter the num1: 10\n"
     ]
    }
   ],
   "source": [
    "val1 = int(input(\"Enter the num1:\"));"
   ]
  },
  {
   "cell_type": "code",
   "execution_count": 55,
   "id": "eac90f17-f3e0-4558-9b93-9c0e5dd87e77",
   "metadata": {},
   "outputs": [
    {
     "name": "stdin",
     "output_type": "stream",
     "text": [
      "Enter the num2: 20\n"
     ]
    }
   ],
   "source": [
    "val2 = int(input(\"Enter the num2:\"));"
   ]
  },
  {
   "cell_type": "code",
   "execution_count": 59,
   "id": "421d9691-971f-4d7e-bd4a-309609e2f3ae",
   "metadata": {},
   "outputs": [],
   "source": [
    "add1 = val1 + val2;"
   ]
  },
  {
   "cell_type": "code",
   "execution_count": 65,
   "id": "18fa0ea5-4627-4f5e-8204-ad46e9801384",
   "metadata": {},
   "outputs": [
    {
     "name": "stdout",
     "output_type": "stream",
     "text": [
      "The Answer :  30\n"
     ]
    }
   ],
   "source": [
    "print(\"The Answer : \", add1)"
   ]
  }
 ],
 "metadata": {
  "kernelspec": {
   "display_name": "Python 3 (Anaconda)",
   "language": "python",
   "name": "python3"
  },
  "language_info": {
   "codemirror_mode": {
    "name": "ipython",
    "version": 3
   },
   "file_extension": ".py",
   "mimetype": "text/x-python",
   "name": "python",
   "nbconvert_exporter": "python",
   "pygments_lexer": "ipython3",
   "version": "3.12.7"
  }
 },
 "nbformat": 4,
 "nbformat_minor": 5
}
