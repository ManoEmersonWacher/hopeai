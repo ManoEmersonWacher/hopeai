{
 "cells": [
  {
   "cell_type": "code",
   "execution_count": 1,
   "id": "41708992-7aad-4aee-bc9a-c6e28ec7c5bc",
   "metadata": {},
   "outputs": [
    {
     "name": "stdout",
     "output_type": "stream",
     "text": [
      "Mano Emerson\n"
     ]
    }
   ],
   "source": [
    "print(\"Mano Emerson\")"
   ]
  },
  {
   "cell_type": "code",
   "execution_count": 3,
   "id": "0b58761b-ede6-40b3-9d01-1a768017e2f3",
   "metadata": {},
   "outputs": [
    {
     "data": {
      "text/plain": [
       "30"
      ]
     },
     "execution_count": 3,
     "metadata": {},
     "output_type": "execute_result"
    }
   ],
   "source": [
    "num1 = 10\n",
    "num2 = 20\n",
    "add = num1 + num2\n",
    "add"
   ]
  }
 ],
 "metadata": {
  "kernelspec": {
   "display_name": "Python 3 (Anaconda)",
   "language": "python",
   "name": "python3"
  },
  "language_info": {
   "codemirror_mode": {
    "name": "ipython",
    "version": 3
   },
   "file_extension": ".py",
   "mimetype": "text/x-python",
   "name": "python",
   "nbconvert_exporter": "python",
   "pygments_lexer": "ipython3",
   "version": "3.12.7"
  }
 },
 "nbformat": 4,
 "nbformat_minor": 5
}
