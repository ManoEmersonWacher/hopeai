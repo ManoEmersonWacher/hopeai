{
 "cells": [
  {
   "cell_type": "code",
   "execution_count": null,
   "id": "9d13f9af-0c3d-4fc2-a3c7-e709347aac55",
   "metadata": {},
   "outputs": [],
   "source": [
    "#if example"
   ]
  },
  {
   "cell_type": "code",
   "execution_count": 7,
   "id": "1953da8b-0196-4489-9d90-cf456cab8537",
   "metadata": {},
   "outputs": [
    {
     "name": "stdin",
     "output_type": "stream",
     "text": [
      "Enter the Age: 18\n"
     ]
    },
    {
     "name": "stdout",
     "output_type": "stream",
     "text": [
      "Adult!\n"
     ]
    }
   ],
   "source": [
    "age = int(input(\"Enter the Age:\"));\n",
    "if(age==18):\n",
    "    print(\"Adult!\");"
   ]
  },
  {
   "cell_type": "code",
   "execution_count": null,
   "id": "c13a1cae-60ca-4bcd-b9be-0816e890f3ae",
   "metadata": {},
   "outputs": [],
   "source": [
    "#if-else example"
   ]
  },
  {
   "cell_type": "code",
   "execution_count": 25,
   "id": "8437fbbe-5ab8-4ee9-b691-08cbcb9d47e5",
   "metadata": {},
   "outputs": [
    {
     "name": "stdin",
     "output_type": "stream",
     "text": [
      "Enter your Age: 89\n"
     ]
    },
    {
     "name": "stdout",
     "output_type": "stream",
     "text": [
      "Adult\n"
     ]
    }
   ],
   "source": [
    "age=int(input(\"Enter your Age:\"))\n",
    "if(age<18):\n",
    "    print(\"Children\");\n",
    "else:\n",
    "    print(\"Adult\");"
   ]
  },
  {
   "cell_type": "code",
   "execution_count": null,
   "id": "f2bb99f0-a027-4825-a593-a9d9f31600c3",
   "metadata": {},
   "outputs": [],
   "source": [
    "#if elif example."
   ]
  },
  {
   "cell_type": "code",
   "execution_count": 1,
   "id": "4b3851a3-2194-4b8e-9300-f8c0a67891b3",
   "metadata": {},
   "outputs": [
    {
     "name": "stdin",
     "output_type": "stream",
     "text": [
      "Enter the Age: 8\n"
     ]
    },
    {
     "name": "stdout",
     "output_type": "stream",
     "text": [
      "Children\n"
     ]
    }
   ],
   "source": [
    "age = int(input(\"Enter the Age:\"));\n",
    "if(age<18):\n",
    "    print(\"Children\");\n",
    "elif(age<35):\n",
    "    print(\"Adult\");\n",
    "elif(age<59):\n",
    "    print(\"Citizen\");\n",
    "else:\n",
    "    print(\"Senior Citizen\")"
   ]
  },
  {
   "cell_type": "code",
   "execution_count": 5,
   "id": "7c6ba0b9-10e1-4e5a-ab56-87480aaee811",
   "metadata": {},
   "outputs": [
    {
     "name": "stdout",
     "output_type": "stream",
     "text": [
      "Children\n",
      "Adult\n",
      "Citizen\n",
      "Senior Citizen\n"
     ]
    }
   ],
   "source": [
    "lists = [15, 25, 55, 65]\n",
    "for age in lists:\n",
    "    if(age<18):\n",
    "        print(\"Children\");\n",
    "    elif(age<35):\n",
    "        print(\"Adult\");\n",
    "    elif(age<59):\n",
    "        print(\"Citizen\");\n",
    "    else:\n",
    "        print(\"Senior Citizen\")"
   ]
  },
  {
   "cell_type": "code",
   "execution_count": 3,
   "id": "c151707f-29ac-4074-8182-a879c36dd6ce",
   "metadata": {},
   "outputs": [
    {
     "name": "stdin",
     "output_type": "stream",
     "text": [
      "Enter the number 3\n"
     ]
    },
    {
     "name": "stdout",
     "output_type": "stream",
     "text": [
      "Odd\n"
     ]
    }
   ],
   "source": [
    "data = int(input(\"Enter the number\"));\n",
    "if(data % 2 == 0):\n",
    "    print(\"Even\");\n",
    "else:\n",
    "    print(\"Odd\");"
   ]
  }
 ],
 "metadata": {
  "kernelspec": {
   "display_name": "Python 3 (Anaconda)",
   "language": "python",
   "name": "python3"
  },
  "language_info": {
   "codemirror_mode": {
    "name": "ipython",
    "version": 3
   },
   "file_extension": ".py",
   "mimetype": "text/x-python",
   "name": "python",
   "nbconvert_exporter": "python",
   "pygments_lexer": "ipython3",
   "version": "3.12.7"
  }
 },
 "nbformat": 4,
 "nbformat_minor": 5
}
