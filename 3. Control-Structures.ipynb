{
 "cells": [
  {
   "cell_type": "code",
   "execution_count": null,
   "id": "9d13f9af-0c3d-4fc2-a3c7-e709347aac55",
   "metadata": {},
   "outputs": [],
   "source": [
    "#if example"
   ]
  },
  {
   "cell_type": "code",
   "execution_count": 5,
   "id": "1953da8b-0196-4489-9d90-cf456cab8537",
   "metadata": {},
   "outputs": [
    {
     "name": "stdin",
     "output_type": "stream",
     "text": [
      "Enter the Age: 12\n"
     ]
    }
   ],
   "source": [
    "age = int(input(\"Enter the Age:\"));\n",
    "if(age==18):\n",
    "    print(\"You are an Adult!\");"
   ]
  }
 ],
 "metadata": {
  "kernelspec": {
   "display_name": "Python 3 (Anaconda)",
   "language": "python",
   "name": "python3"
  },
  "language_info": {
   "codemirror_mode": {
    "name": "ipython",
    "version": 3
   },
   "file_extension": ".py",
   "mimetype": "text/x-python",
   "name": "python",
   "nbconvert_exporter": "python",
   "pygments_lexer": "ipython3",
   "version": "3.12.7"
  }
 },
 "nbformat": 4,
 "nbformat_minor": 5
}
