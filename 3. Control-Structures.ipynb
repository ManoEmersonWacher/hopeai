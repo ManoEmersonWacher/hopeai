{
 "cells": [
  {
   "cell_type": "code",
   "execution_count": null,
   "id": "9d13f9af-0c3d-4fc2-a3c7-e709347aac55",
   "metadata": {},
   "outputs": [],
   "source": [
    "#if example"
   ]
  },
  {
   "cell_type": "code",
   "execution_count": 7,
   "id": "1953da8b-0196-4489-9d90-cf456cab8537",
   "metadata": {},
   "outputs": [
    {
     "name": "stdin",
     "output_type": "stream",
     "text": [
      "Enter the Age: 18\n"
     ]
    },
    {
     "name": "stdout",
     "output_type": "stream",
     "text": [
      "Adult!\n"
     ]
    }
   ],
   "source": [
    "age = int(input(\"Enter the Age:\"));\n",
    "if(age==18):\n",
    "    print(\"Adult!\");"
   ]
  },
  {
   "cell_type": "code",
   "execution_count": null,
   "id": "c13a1cae-60ca-4bcd-b9be-0816e890f3ae",
   "metadata": {},
   "outputs": [],
   "source": [
    "#if-else example"
   ]
  },
  {
   "cell_type": "code",
   "execution_count": 13,
   "id": "8437fbbe-5ab8-4ee9-b691-08cbcb9d47e5",
   "metadata": {},
   "outputs": [
    {
     "name": "stdin",
     "output_type": "stream",
     "text": [
      "Enter your Age: 34\n"
     ]
    },
    {
     "name": "stdout",
     "output_type": "stream",
     "text": [
      "Adult\n"
     ]
    }
   ],
   "source": [
    "age=int(input(\"Enter your Age:\"))\n",
    "if(age<18):\n",
    "    print(\"Children\");\n",
    "else:\n",
    "    print(\"Adult\");"
   ]
  }
 ],
 "metadata": {
  "kernelspec": {
   "display_name": "Python 3 (Anaconda)",
   "language": "python",
   "name": "python3"
  },
  "language_info": {
   "codemirror_mode": {
    "name": "ipython",
    "version": 3
   },
   "file_extension": ".py",
   "mimetype": "text/x-python",
   "name": "python",
   "nbconvert_exporter": "python",
   "pygments_lexer": "ipython3",
   "version": "3.12.7"
  }
 },
 "nbformat": 4,
 "nbformat_minor": 5
}
