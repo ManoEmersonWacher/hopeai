{
 "cells": [
  {
   "cell_type": "code",
   "execution_count": 5,
   "id": "576a19ad-11ef-4054-af1b-f5186325a9d0",
   "metadata": {},
   "outputs": [
    {
     "name": "stdout",
     "output_type": "stream",
     "text": [
      "HOPE AI\n"
     ]
    }
   ],
   "source": [
    "#print Statement\n",
    "print(\"HOPE AI\")"
   ]
  },
  {
   "cell_type": "code",
   "execution_count": 9,
   "id": "b5272844-85f5-4787-9a1f-e02970c7eefa",
   "metadata": {},
   "outputs": [
    {
     "name": "stdin",
     "output_type": "stream",
     "text": [
      "Enter your institute name? :  HOPE AI\n"
     ]
    }
   ],
   "source": [
    "#Buy Input\n",
    "institute = input(\"Enter your institute name? : \")"
   ]
  },
  {
   "cell_type": "code",
   "execution_count": 11,
   "id": "540f1441-07e1-4453-b99a-0b3cdc3fb224",
   "metadata": {},
   "outputs": [
    {
     "name": "stdin",
     "output_type": "stream",
     "text": [
      "Enter your name:  Raj\n",
      "Enter your age:  15\n",
      "Enter your school name:  Guru school\n",
      "Enter your degree:  B.E CSE\n"
     ]
    }
   ],
   "source": [
    "#Buy Inputs\n",
    "name = input(\"Enter your name: \")\n",
    "age = input(\"Enter your age: \")\n",
    "school = input(\"Enter your school name: \")\n",
    "degree = input(\"Enter your degree: \")"
   ]
  },
  {
   "cell_type": "code",
   "execution_count": 13,
   "id": "a74cd2a8-e389-4af8-8d7d-d453cef1459e",
   "metadata": {},
   "outputs": [
    {
     "name": "stdin",
     "output_type": "stream",
     "text": [
      "Enter the value of a :  43\n",
      "Enter the value of b :  34\n"
     ]
    },
    {
     "name": "stdout",
     "output_type": "stream",
     "text": [
      "a = 43\n",
      "b = 34\n",
      "add = 77\n"
     ]
    }
   ],
   "source": [
    "#Addition\n",
    "a = int(input(\"Enter the value of a : \"))\n",
    "b = int(input(\"Enter the value of b : \"))\n",
    "add = a + b\n",
    "print(\"a =\",a)\n",
    "print(\"b =\",b)\n",
    "print(\"add =\",add)"
   ]
  },
  {
   "cell_type": "code",
   "execution_count": 15,
   "id": "198dc237-3938-48c9-8a7d-21a0b488aaba",
   "metadata": {},
   "outputs": [
    {
     "name": "stdin",
     "output_type": "stream",
     "text": [
      "Enter the value of a :  43\n",
      "Enter the value of b :  34\n"
     ]
    },
    {
     "name": "stdout",
     "output_type": "stream",
     "text": [
      "a = 43\n",
      "b = 34\n",
      "add = 9\n"
     ]
    }
   ],
   "source": [
    "#Subtract\n",
    "a = int(input(\"Enter the value of a : \"))\n",
    "b = int(input(\"Enter the value of b : \"))\n",
    "sub = a - b\n",
    "print(\"a =\",a)\n",
    "print(\"b =\",b)\n",
    "print(\"add =\",sub)"
   ]
  },
  {
   "cell_type": "code",
   "execution_count": 17,
   "id": "7c11726e-7eec-44a8-8daa-a65188f37a5b",
   "metadata": {},
   "outputs": [
    {
     "name": "stdin",
     "output_type": "stream",
     "text": [
      "Enter the value of a :  63\n",
      "Enter the value of b :  97\n"
     ]
    },
    {
     "name": "stdout",
     "output_type": "stream",
     "text": [
      "a = 63\n",
      "b = 97\n",
      "add = 6111\n"
     ]
    }
   ],
   "source": [
    "#Multiplication\n",
    "a = int(input(\"Enter the value of a : \"))\n",
    "b = int(input(\"Enter the value of b : \"))\n",
    "mul = a * b\n",
    "print(\"a =\",a)\n",
    "print(\"b =\",b)\n",
    "print(\"add =\",mul)"
   ]
  },
  {
   "cell_type": "code",
   "execution_count": 19,
   "id": "a130658d-5cfe-404c-9250-8214ecc9b5d5",
   "metadata": {},
   "outputs": [
    {
     "name": "stdin",
     "output_type": "stream",
     "text": [
      "Enter the value of a :  76\n",
      "Enter the value of b :  31\n"
     ]
    },
    {
     "name": "stdout",
     "output_type": "stream",
     "text": [
      "a = 76\n",
      "b = 31\n",
      "Float Div = 2.4516129032258065\n"
     ]
    }
   ],
   "source": [
    "#Division\n",
    "a = int(input(\"Enter the value of a : \"))\n",
    "b = int(input(\"Enter the value of b : \"))\n",
    "div = a / b\n",
    "print(\"a =\",a)\n",
    "print(\"b =\",b)\n",
    "print(\"Float Div =\",div)"
   ]
  },
  {
   "cell_type": "code",
   "execution_count": 21,
   "id": "08747b45-0124-4e3c-ae71-305160f2e799",
   "metadata": {},
   "outputs": [
    {
     "name": "stdin",
     "output_type": "stream",
     "text": [
      "Enter the value of a :  76\n",
      "Enter the value of b :  31\n"
     ]
    },
    {
     "name": "stdout",
     "output_type": "stream",
     "text": [
      "a = 76\n",
      "b = 31\n",
      "Floor Div = 2\n"
     ]
    }
   ],
   "source": [
    "#Floor Division\n",
    "a = int(input(\"Enter the value of a : \"))\n",
    "b = int(input(\"Enter the value of b : \"))\n",
    "floordiv = a // b\n",
    "print(\"a =\",a)\n",
    "print(\"b =\",b)\n",
    "print(\"Floor Div =\",floordiv)"
   ]
  },
  {
   "cell_type": "code",
   "execution_count": 23,
   "id": "a255a34f-9048-4c50-b060-0123efe7183e",
   "metadata": {},
   "outputs": [
    {
     "name": "stdin",
     "output_type": "stream",
     "text": [
      "Enter the value of a :  76\n",
      "Enter the value of b :  31\n"
     ]
    },
    {
     "name": "stdout",
     "output_type": "stream",
     "text": [
      "a = 76\n",
      "b = 31\n",
      "Modulo = 14\n"
     ]
    }
   ],
   "source": [
    "#Modulo\n",
    "a = int(input(\"Enter the value of a : \"))\n",
    "b = int(input(\"Enter the value of b : \"))\n",
    "mod = a % b\n",
    "print(\"a =\",a)\n",
    "print(\"b =\",b)\n",
    "print(\"Modulo =\",mod)"
   ]
  },
  {
   "cell_type": "code",
   "execution_count": 25,
   "id": "d834b211-fb00-43fc-ba80-d4673ba3e4e2",
   "metadata": {},
   "outputs": [
    {
     "name": "stdin",
     "output_type": "stream",
     "text": [
      "Enter the value of a :  4\n",
      "Enter the value of b :  4\n"
     ]
    },
    {
     "name": "stdout",
     "output_type": "stream",
     "text": [
      "a = 4\n",
      "b = 4\n",
      "Modulo = 256\n"
     ]
    }
   ],
   "source": [
    "#Power\n",
    "a = int(input(\"Enter the value of a : \"))\n",
    "b = int(input(\"Enter the value of b : \"))\n",
    "power = a ** b\n",
    "print(\"a =\",a)\n",
    "print(\"b =\",b)\n",
    "print(\"Modulo =\",power)"
   ]
  },
  {
   "cell_type": "code",
   "execution_count": 27,
   "id": "0081ea09-3858-4eb1-af40-f4deba5b79b3",
   "metadata": {},
   "outputs": [
    {
     "name": "stdin",
     "output_type": "stream",
     "text": [
      "Enter the value of a :  4\n",
      "Enter the value of b :  4\n"
     ]
    },
    {
     "name": "stdout",
     "output_type": "stream",
     "text": [
      "a = 4\n",
      "b = 4\n",
      "Modulo = 256\n"
     ]
    }
   ],
   "source": [
    "#using builtin function pow()\n",
    "a = int(input(\"Enter the value of a : \"))\n",
    "b = int(input(\"Enter the value of b : \"))\n",
    "power = pow(a,b)\n",
    "print(\"a =\",a)\n",
    "print(\"b =\",b)\n",
    "print(\"Modulo =\",power)"
   ]
  }
 ],
 "metadata": {
  "kernelspec": {
   "display_name": "Python 3 (Anaconda)",
   "language": "python",
   "name": "python3"
  },
  "language_info": {
   "codemirror_mode": {
    "name": "ipython",
    "version": 3
   },
   "file_extension": ".py",
   "mimetype": "text/x-python",
   "name": "python",
   "nbconvert_exporter": "python",
   "pygments_lexer": "ipython3",
   "version": "3.12.7"
  }
 },
 "nbformat": 4,
 "nbformat_minor": 5
}
